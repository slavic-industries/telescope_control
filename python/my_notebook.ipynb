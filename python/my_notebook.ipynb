{
 "cells": [
  {
   "cell_type": "markdown",
   "metadata": {},
   "source": [
    "# TMC429 and TMC2130 Testing\n",
    "\n",
    "## Setup output pins and f_clk for TMC429"
   ]
  },
  {
   "cell_type": "code",
   "execution_count": 1,
   "metadata": {},
   "outputs": [],
   "source": [
    "import spidev\n",
    "import pigpio\n",
    "import os\n",
    "from RpiMotorLib import RpiMotorLib\n",
    "import json\n",
    "\n",
    "\n",
    "\n",
    "TMC429_CS_PIN = 5   # GPIO 5\n",
    "TMC429_CLK = 4      # GPIO 4\n",
    "TMC2130_CS_PIN = 8  # GPIO 8\n",
    "f_clk = 16000000\n",
    "\n",
    "\n",
    "gpiod = pigpio.pi()\n",
    "\n",
    "\n",
    "gpiod.set_mode(TMC429_CS_PIN, pigpio.OUTPUT)\n",
    "gpiod.write(TMC429_CS_PIN, pigpio.HIGH)\n",
    "\n",
    "gpiod.set_mode(TMC429_CLK, pigpio.OUTPUT)\n",
    "gpiod.hardware_clock(TMC429_CLK, f_clk)\n",
    "\n",
    "\n",
    "gpiod.set_mode(TMC2130_CS_PIN, pigpio.OUTPUT)\n",
    "gpiod.write(TMC2130_CS_PIN, pigpio.HIGH)\n",
    "\n",
    "def parse_tmc429_status_byte(byte):\n",
    "    status = {\n",
    "        \"INT\": (byte & 0x80) != 0,\n",
    "        \"CDGW\": (byte & 0x40) != 0,\n",
    "        \"RS3\": (byte & 0x20) != 0,\n",
    "        \"RS2\": (byte & 0x08) != 0,\n",
    "        \"RS1\": (byte & 0x02) != 0,\n",
    "        \"xEQt3\": (byte & 0x10) != 0,\n",
    "        \"xEQt2\": (byte & 0x04) != 0,\n",
    "        \"xEQt1\": (byte & 0x01) != 0\n",
    "    }\n",
    "    status = json.dumps(status, indent=2)\n",
    "    print(status)\n",
    "\n",
    "def parse_tmc2130_status(byte):\n",
    "    print(f\"'reset_flag':   {(byte & 0x01) != 0}\")\n",
    "    print(f\"'driver_error': {(byte & 0x02) != 0}\")\n",
    "    print(f\"'sg2':          {(byte & 0x04) != 0}\")\n",
    "    print(f\"'standstill':   {(byte & 0x08) != 0}\")"
   ]
  },
  {
   "cell_type": "markdown",
   "metadata": {},
   "source": [
    "## Setup SPI bus"
   ]
  },
  {
   "cell_type": "code",
   "execution_count": 2,
   "metadata": {},
   "outputs": [],
   "source": [
    "import spidev\n",
    "import time\n",
    "\n",
    "SPI_BUS = 0\n",
    "SPI_DEVICE = 0\n",
    "spi = spidev.SpiDev()\n",
    "spi.open(SPI_BUS, SPI_DEVICE)\n",
    "spi.max_speed_hz = 100000\n",
    "spi.no_cs = True\n",
    "spi.mode = 3\n",
    "\n",
    "\n",
    "\n"
   ]
  },
  {
   "cell_type": "markdown",
   "metadata": {},
   "source": [
    "# TMC429 Commands\n",
    "\n",
    "## Read version and get status"
   ]
  },
  {
   "cell_type": "code",
   "execution_count": 4,
   "metadata": {},
   "outputs": [
    {
     "name": "stdout",
     "output_type": "stream",
     "text": [
      "0x14 0x42 0x91 0x1\n",
      "{\n",
      "  \"INT\": false,\n",
      "  \"CDGW\": false,\n",
      "  \"RS3\": false,\n",
      "  \"RS2\": false,\n",
      "  \"RS1\": false,\n",
      "  \"xEQt3\": true,\n",
      "  \"xEQt2\": true,\n",
      "  \"xEQt1\": false\n",
      "}\n",
      "None\n"
     ]
    }
   ],
   "source": [
    "# TMC 429\n",
    "# Read the TMC 429 version\n",
    "register = 0b01110011\n",
    "\n",
    "# Sending the read command\n",
    "gpiod.write(TMC429_CS_PIN, pigpio.LOW)\n",
    "response = spi.xfer2([register, 0, 0, 0])\n",
    "gpiod.write(TMC429_CS_PIN, pigpio.HIGH)\n",
    "print(f\"{hex(response[0])} {hex(response[1])} {hex(response[2])} {hex(response[3])}\")\n",
    "print(parse_tmc429_status_byte(response[0]))"
   ]
  },
  {
   "cell_type": "markdown",
   "metadata": {},
   "source": [
    "## Read pulse_div and ramp_div"
   ]
  },
  {
   "cell_type": "code",
   "execution_count": 31,
   "metadata": {},
   "outputs": [
    {
     "name": "stdout",
     "output_type": "stream",
     "text": [
      "0x14 0x0 0x75 0x0\n",
      "pulse_div: 7\n",
      "ramp_div:  5\n",
      "0x14 0x0 0xfa 0x0\n",
      "pmul: 250\n",
      "pdiv: 0\n"
     ]
    }
   ],
   "source": [
    "# TMC 429\n",
    "# Read the TMC 429 Pulse_div and ramp_div\n",
    "register = 0b00011001\n",
    "\n",
    "# Sending the read command\n",
    "gpiod.write(TMC429_CS_PIN, pigpio.LOW)\n",
    "response = spi.xfer2([register, 0, 0, 0])\n",
    "gpiod.write(TMC429_CS_PIN, pigpio.HIGH)\n",
    "print(f\"{hex(response[0])} {hex(response[1])} {hex(response[2])} {hex(response[3])}\")\n",
    "\n",
    "pulse_div = (response[2] & 0xF0) >> 4\n",
    "ramp_div = (response[2] & 0xF)\n",
    "print(f\"pulse_div: {pulse_div}\")\n",
    "print(f\"ramp_div:  {ramp_div}\")\n",
    "\n",
    "# Read the TMC 429 PMUL and PDIV\n",
    "register = 0b000010011\n",
    "\n",
    "# Sending the read command\n",
    "gpiod.write(TMC429_CS_PIN, pigpio.LOW)\n",
    "response = spi.xfer2([register, 0, 0, 0])\n",
    "gpiod.write(TMC429_CS_PIN, pigpio.HIGH)\n",
    "print(f\"{hex(response[0])} {hex(response[1])} {hex(response[2])} {hex(response[3])}\")\n",
    "\n",
    "pmul = (response[2])\n",
    "pdiv = (response[3])\n",
    "print(f\"pmul: {pmul}\")\n",
    "print(f\"pdiv: {pdiv}\")"
   ]
  },
  {
   "cell_type": "markdown",
   "metadata": {},
   "source": [
    "## Set pulse_div, ramp_div, pmul and pdiv"
   ]
  },
  {
   "cell_type": "code",
   "execution_count": 30,
   "metadata": {},
   "outputs": [
    {
     "name": "stdout",
     "output_type": "stream",
     "text": [
      "0x14 0x0 0x0 0x0\n",
      "0x14 0x0 0x0 0x0\n"
     ]
    }
   ],
   "source": [
    "# TMC 429\n",
    "# Set the TMC 429 Pulse_div and ramp_div\n",
    "register = 0b00011000\n",
    "byte3 = 0b00000000\n",
    "byte2 = 0b01110101\n",
    "byte1 = 0b00000000\n",
    "\n",
    "# Sending the read command\n",
    "gpiod.write(TMC429_CS_PIN, pigpio.LOW)\n",
    "response = spi.xfer2([register, byte3, byte2, byte1])\n",
    "gpiod.write(TMC429_CS_PIN, pigpio.HIGH)\n",
    "print(f\"{hex(response[0])} {hex(response[1])} {hex(response[2])} {hex(response[3])}\")\n",
    "\n",
    "# Set the TMC 429 PMUL and PDIV\n",
    "register = 0b000010010\n",
    "byte3 = 0b00000000\n",
    "byte2 = 0b11111010\n",
    "byte1 = 0b00000000\n",
    "\n",
    "# Sending the read command\n",
    "gpiod.write(TMC429_CS_PIN, pigpio.LOW)\n",
    "response = spi.xfer2([register, byte3, byte2, byte1])\n",
    "gpiod.write(TMC429_CS_PIN, pigpio.HIGH)\n",
    "print(f\"{hex(response[0])} {hex(response[1])} {hex(response[2])} {hex(response[3])}\")\n"
   ]
  },
  {
   "cell_type": "markdown",
   "metadata": {},
   "source": [
    "## Read Velocities"
   ]
  },
  {
   "cell_type": "code",
   "execution_count": 29,
   "metadata": {},
   "outputs": [
    {
     "name": "stdout",
     "output_type": "stream",
     "text": [
      "Tgt Speed: 0x14 0x0 0x3 0x46\n",
      "Min Speed: 0x14 0x0 0x0 0x0\n",
      "Max Speed: 0x14 0x0 0x7 0xff\n",
      "Max Accel: 0x14 0x0 0x3 0xe8\n"
     ]
    }
   ],
   "source": [
    "# TMC 429\n",
    "# Read the TMC 429 Target Speed\n",
    "register = 0b00001001\n",
    "\n",
    "# Sending the read command\n",
    "gpiod.write(TMC429_CS_PIN, pigpio.LOW)\n",
    "response = spi.xfer2([register, 0, 0, 0])\n",
    "gpiod.write(TMC429_CS_PIN, pigpio.HIGH)\n",
    "print(f\"Tgt Speed: {hex(response[0])} {hex(response[1])} {hex(response[2])} {hex(response[3])}\")\n",
    "\n",
    "\n",
    "# Read the TMC 429 Min Speed\n",
    "register = 0b00000101\n",
    "\n",
    "# Sending the read command\n",
    "gpiod.write(TMC429_CS_PIN, pigpio.LOW)\n",
    "response = spi.xfer2([register, 0, 0, 0])\n",
    "gpiod.write(TMC429_CS_PIN, pigpio.HIGH)\n",
    "print(f\"Min Speed: {hex(response[0])} {hex(response[1])} {hex(response[2])} {hex(response[3])}\")\n",
    "\n",
    "\n",
    "# Read the TMC 429 Max Speed\n",
    "register = 0b00000111\n",
    "\n",
    "# Sending the read command\n",
    "gpiod.write(TMC429_CS_PIN, pigpio.LOW)\n",
    "response = spi.xfer2([register, 0, 0, 0])\n",
    "gpiod.write(TMC429_CS_PIN, pigpio.HIGH)\n",
    "print(f\"Max Speed: {hex(response[0])} {hex(response[1])} {hex(response[2])} {hex(response[3])}\")\n",
    "\n",
    "\n",
    "# Read the TMC 429 Max Accel\n",
    "register = 0b00001101\n",
    "\n",
    "# Sending the read command\n",
    "gpiod.write(TMC429_CS_PIN, pigpio.LOW)\n",
    "response = spi.xfer2([register, 0, 0, 0])\n",
    "gpiod.write(TMC429_CS_PIN, pigpio.HIGH)\n",
    "print(f\"Max Accel: {hex(response[0])} {hex(response[1])} {hex(response[2])} {hex(response[3])}\")"
   ]
  },
  {
   "cell_type": "markdown",
   "metadata": {},
   "source": [
    "## Set Velocities"
   ]
  },
  {
   "cell_type": "code",
   "execution_count": 76,
   "metadata": {},
   "outputs": [
    {
     "name": "stdout",
     "output_type": "stream",
     "text": [
      "0b0\n",
      "0b0\n",
      "Max speed: 3906.25\n",
      "Tgt Speed: 0.0\n",
      "0x14 0x0 0x0 0x0\n",
      "0x14 0x0 0x0 0x0\n",
      "0x14 0x0 0x0 0x0\n",
      "0x14 0x0 0x0 0x0\n"
     ]
    }
   ],
   "source": [
    "# TMC 429\n",
    "# Set the TMC 429 Target Speed\n",
    "\n",
    "trgt_speed = 0\n",
    "# trgt_speed = 838 # 1 RPS with 5 pulse_div\n",
    "# trgt_speed = 45  # Siderial rate with 7 pulse_div\n",
    "\n",
    "if trgt_speed > 0x7ff:\n",
    "    trgt_speed = 0x7ff\n",
    "\n",
    "register = 0b00001000\n",
    "byte3 = 0b00000000\n",
    "byte2 = trgt_speed >> 8\n",
    "byte1 = trgt_speed & 0xFF\n",
    "\n",
    "print(bin(byte2))\n",
    "print(bin(byte1))\n",
    "\n",
    "\n",
    "print(f\"Max speed: {f_clk / (2**pulse_div * 32)}\")\n",
    "\n",
    "gpiod.write(TMC429_CS_PIN, pigpio.LOW)\n",
    "response = spi.xfer2([register, byte3, byte2, byte1])\n",
    "gpiod.write(TMC429_CS_PIN, pigpio.HIGH)\n",
    "\n",
    "print(f\"Tgt Speed: {float((f_clk*  trgt_speed) / ((2**pulse_div) * 2048 * 32)) }\")\n",
    "print(f\"{hex(response[0])} {hex(response[1])} {hex(response[2])} {hex(response[3])}\")\n",
    "\n",
    "\n",
    "# Set the TMC 429 Max Speed\n",
    "register = 0b00000110\n",
    "byte3 = 0b00000000\n",
    "byte2 = 0x07\n",
    "byte1 = 0xff\n",
    "\n",
    "# Sending the read command\n",
    "gpiod.write(TMC429_CS_PIN, pigpio.LOW)\n",
    "response = spi.xfer2([register, byte3, byte2, byte1])\n",
    "gpiod.write(TMC429_CS_PIN, pigpio.HIGH)\n",
    "print(f\"{hex(response[0])} {hex(response[1])} {hex(response[2])} {hex(response[3])}\")\n",
    "\n",
    "# Set the TMC 429 Min Speed\n",
    "register = 0b00000100\n",
    "\n",
    "# Sending the read command\n",
    "gpiod.write(TMC429_CS_PIN, pigpio.LOW)\n",
    "response = spi.xfer2([register, 0, 0, 0])\n",
    "gpiod.write(TMC429_CS_PIN, pigpio.HIGH)\n",
    "print(f\"{hex(response[0])} {hex(response[1])} {hex(response[2])} {hex(response[3])}\")\n",
    "\n",
    "# Set the TMC 429 Max Accel\n",
    "register = 0b00001100\n",
    "byte3 = 0b00000000\n",
    "byte2 = 0x00\n",
    "byte1 = 0x10\n",
    "\n",
    "# Sending the read command\n",
    "gpiod.write(TMC429_CS_PIN, pigpio.LOW)\n",
    "response = spi.xfer2([register, byte3, byte2, byte1])\n",
    "gpiod.write(TMC429_CS_PIN, pigpio.HIGH)\n",
    "print(f\"{hex(response[0])} {hex(response[1])} {hex(response[2])} {hex(response[3])}\")"
   ]
  },
  {
   "cell_type": "markdown",
   "metadata": {},
   "source": [
    "## Set Velocity Mode"
   ]
  },
  {
   "cell_type": "code",
   "execution_count": 74,
   "metadata": {},
   "outputs": [
    {
     "name": "stdout",
     "output_type": "stream",
     "text": [
      "0b10100 0b0 0b0 0b10\n"
     ]
    }
   ],
   "source": [
    "# TMC 429\n",
    "# Set the TMC 429 to velocity mode\n",
    "register = 0b00010100\n",
    "byte3 = 0b00000000\n",
    "byte2 = 0b00000000      # Disable endstop L and R\n",
    "byte1 = 0b00000010      # Velocity mode\n",
    "\n",
    "gpiod.write(TMC429_CS_PIN, pigpio.LOW)\n",
    "response = spi.xfer2([register, byte3, byte2, byte1])\n",
    "gpiod.write(TMC429_CS_PIN, pigpio.HIGH)\n",
    "\n",
    "register = 0b00010101\n",
    "# Sending the read command\n",
    "gpiod.write(TMC429_CS_PIN, pigpio.LOW)\n",
    "response = spi.xfer2([register, 0, 0, 0])\n",
    "gpiod.write(TMC429_CS_PIN, pigpio.HIGH)\n",
    "print(f\"{bin(response[0])} {bin(response[1])} {bin(response[2])} {bin(response[3])}\")"
   ]
  },
  {
   "cell_type": "markdown",
   "metadata": {},
   "source": [
    "## Set Ramp Mode"
   ]
  },
  {
   "cell_type": "code",
   "execution_count": 44,
   "metadata": {},
   "outputs": [
    {
     "name": "stdout",
     "output_type": "stream",
     "text": [
      "0b10100 0b0 0b0 0b0\n"
     ]
    }
   ],
   "source": [
    "# TMC 429\n",
    "# Set the TMC 429 to velocity mode\n",
    "register = 0b00010100\n",
    "byte3 = 0b00000000\n",
    "byte2 = 0b00000000      # Disable endstop L and R\n",
    "byte1 = 0b00000000      # Velocity mode\n",
    "\n",
    "gpiod.write(TMC429_CS_PIN, pigpio.LOW)\n",
    "response = spi.xfer2([register, byte3, byte2, byte1])\n",
    "gpiod.write(TMC429_CS_PIN, pigpio.HIGH)\n",
    "\n",
    "register = 0b00010101\n",
    "# Sending the read command\n",
    "gpiod.write(TMC429_CS_PIN, pigpio.LOW)\n",
    "response = spi.xfer2([register, 0, 0, 0])\n",
    "gpiod.write(TMC429_CS_PIN, pigpio.HIGH)\n",
    "print(f\"{bin(response[0])} {bin(response[1])} {bin(response[2])} {bin(response[3])}\")"
   ]
  },
  {
   "cell_type": "markdown",
   "metadata": {},
   "source": [
    "## Set Hold Mode"
   ]
  },
  {
   "cell_type": "code",
   "execution_count": 43,
   "metadata": {},
   "outputs": [
    {
     "name": "stdout",
     "output_type": "stream",
     "text": [
      "0b10100 0b0 0b0 0b11\n"
     ]
    }
   ],
   "source": [
    "# TMC 429\n",
    "# Set the TMC 429 to velocity mode\n",
    "register = 0b00010100\n",
    "byte3 = 0b00000000\n",
    "byte2 = 0b00000000      # Disable endstop L and R\n",
    "byte1 = 0b00000011      # Velocity mode\n",
    "\n",
    "gpiod.write(TMC429_CS_PIN, pigpio.LOW)\n",
    "response = spi.xfer2([register, byte3, byte2, byte1])\n",
    "gpiod.write(TMC429_CS_PIN, pigpio.HIGH)\n",
    "\n",
    "register = 0b00010101\n",
    "# Sending the read command\n",
    "gpiod.write(TMC429_CS_PIN, pigpio.LOW)\n",
    "response = spi.xfer2([register, 0, 0, 0])\n",
    "gpiod.write(TMC429_CS_PIN, pigpio.HIGH)\n",
    "print(f\"{bin(response[0])} {bin(response[1])} {bin(response[2])} {bin(response[3])}\")"
   ]
  },
  {
   "cell_type": "markdown",
   "metadata": {},
   "source": [
    "## Read IF Config"
   ]
  },
  {
   "cell_type": "code",
   "execution_count": 12,
   "metadata": {},
   "outputs": [
    {
     "name": "stdout",
     "output_type": "stream",
     "text": [
      "0b10100 0b0 0b0 0b100000\n"
     ]
    }
   ],
   "source": [
    "# TMC 429\n",
    "# Read the TMC 429 IF Config\n",
    "register = 0b01101001\n",
    "\n",
    "gpiod.write(TMC429_CS_PIN, pigpio.LOW)\n",
    "response = spi.xfer2([register, 0, 0, 0])\n",
    "gpiod.write(TMC429_CS_PIN, pigpio.HIGH)\n",
    "print(f\"{bin(response[0])} {bin(response[1])} {bin(response[2])} {bin(response[3])}\")"
   ]
  },
  {
   "cell_type": "markdown",
   "metadata": {},
   "source": [
    "## Set Step/Dir mode"
   ]
  },
  {
   "cell_type": "code",
   "execution_count": 13,
   "metadata": {},
   "outputs": [
    {
     "name": "stdout",
     "output_type": "stream",
     "text": [
      "0b10100 0b0 0b0 0b0\n"
     ]
    }
   ],
   "source": [
    "# TMC 429\n",
    "# Set the TMC 429 in Step and Dir mode\n",
    "register = 0b01101000\n",
    "byte3 = 0b00000000\n",
    "byte2 = 0b00000000\n",
    "byte1 = 0b00100000\n",
    "\n",
    "gpiod.write(TMC429_CS_PIN, pigpio.LOW)\n",
    "response = spi.xfer2([register, byte3, byte2, byte1])\n",
    "gpiod.write(TMC429_CS_PIN, pigpio.HIGH)\n",
    "print(f\"{bin(response[0])} {bin(response[1])} {bin(response[2])} {bin(response[3])}\")"
   ]
  },
  {
   "cell_type": "markdown",
   "metadata": {},
   "source": [
    "# Calculate pules_dive and velocity for given PPS"
   ]
  },
  {
   "cell_type": "code",
   "execution_count": 234,
   "metadata": {},
   "outputs": [
    {
     "name": "stdout",
     "output_type": "stream",
     "text": [
      "For pulse_div: 0 velocity is 0.35  error: 0.35209216\n",
      "For pulse_div: 1 velocity is 0.7  error: 0.29581568\n",
      "For pulse_div: 2 velocity is 1.41  error: 0.40836863999999995\n",
      "For pulse_div: 3 velocity is 2.82  error: 0.1832627200000001\n",
      "For pulse_div: 4 velocity is 5.63  error: 0.3665254400000002\n",
      "For pulse_div: 5 velocity is 11.27  error: 0.2669491199999996\n",
      "For pulse_div: 6 velocity is 22.53  error: 0.4661017600000008\n",
      "For pulse_div: 7 velocity is 45.07  error: 0.06779647999999838\n",
      "For pulse_div: 8 velocity is 90.14  error: 0.13559295999999676\n",
      "For pulse_div: 9 velocity is 180.27  error: 0.27118591999999353\n",
      "For pulse_div: 10 velocity is 360.54  error: 0.45762816000001294\n",
      "For pulse_div: 11 velocity is 721.08  error: 0.08474367999997412\n",
      "For pulse_div: 12 velocity is 1442.17  error: 0.16948735999994824\n",
      "For pulse_div: 13 velocity is 2884.34  error: 0.3389747199998965\n",
      "Velocity is over 2048. Stopping\n",
      "\n",
      "Smallest error is for pulse_div: 7 with velocity 45 and error 0.06779647999999838\n",
      "New step_pulse_rate = 85.8306884765625 Hz with error 0.12931152343749375\n"
     ]
    }
   ],
   "source": [
    "import sys\n",
    "# Calculate velocity and pulse_dev for given step_pulse_rate\n",
    "\n",
    "def distance_to_nearest_round_number(x):\n",
    "    # Find the nearest integer by rounding\n",
    "    nearest_round_number = round(x)\n",
    "    # Calculate the absolute difference between the float and the nearest round number\n",
    "    distance = abs(x - nearest_round_number)\n",
    "    return distance\n",
    "\n",
    "f_clk = 16000000 # Hz\n",
    "# step_pulse_rate = 40960 # Hz GoTo\n",
    "step_pulse_rate = 85.96 # Hz Siderial\n",
    "# step_pulse_rate = 6400 # Hz \n",
    "pulse_dev = [0, 1, 2, 3, 4, 5, 6, 7, 8, 9, 10, 11, 12, 13]\n",
    "prev_error = 1.0\n",
    "smallest_error = {\n",
    "    \"pulse_dev\": None,\n",
    "    \"velocity\": None,\n",
    "    \"error\": None\n",
    "}\n",
    "for number in pulse_dev:\n",
    "    velocity = (step_pulse_rate * 2048 * 32 * 2**number) / (f_clk)\n",
    "    error = abs(velocity - round(velocity))\n",
    "    if error < prev_error:\n",
    "        prev_error = error\n",
    "        smallest_error[\"pulse_dev\"] = number\n",
    "        smallest_error[\"velocity\"] = int(velocity)\n",
    "        smallest_error[\"error\"] = error\n",
    "    print(f\"For pulse_div: {number} velocity is {round(velocity, 2)}  error: {error}\")\n",
    "    if velocity > 2048:\n",
    "        print(\"Velocity is over 2048. Stopping\")\n",
    "        break\n",
    "\n",
    "new_step_pulse_rate = (f_clk * smallest_error[\"velocity\"] ) / (2048 * 32 * 2**smallest_error['pulse_dev'])\n",
    "print(f\"\\nSmallest error is for pulse_div: {smallest_error['pulse_dev']} with velocity {smallest_error['velocity']} and error {smallest_error['error']}\")\n",
    "print(f\"New step_pulse_rate = {new_step_pulse_rate} Hz with error {abs(new_step_pulse_rate - step_pulse_rate)}\")"
   ]
  },
  {
   "cell_type": "markdown",
   "metadata": {},
   "source": [
    "# TMC 2130 Commands\n",
    "\n",
    "## Read veresion and get status"
   ]
  },
  {
   "cell_type": "code",
   "execution_count": 5,
   "metadata": {},
   "outputs": [
    {
     "name": "stdout",
     "output_type": "stream",
     "text": [
      "0x30 0x11 0x0 0x0 0x68\n",
      "'reset_flag':   False\n",
      "'driver_error': False\n",
      "'sg2':          False\n",
      "'standstill':   False\n",
      "'STEP':         False\n",
      "'DIR':          False\n",
      "'DCEN_CFG4':    False\n",
      "'DCEN_CFG6':    True\n",
      "'DRV_ENN_CFG6': False\n",
      "'DCO':          True\n",
      "'VERSION':      0x11\n"
     ]
    }
   ],
   "source": [
    "ADDR_GCONF = 0x00\n",
    "ADDR_IHOLD_IRUN = 0x10\n",
    "ADDR_TPOWERDOWN = 0x11\n",
    "ADDR_TPWMTHRS = 0x13\n",
    "ADDR_TCOOLTHRS = 0x14\n",
    "ADDR_THIGH = 0x15\n",
    "ADDR_XDIRECT = 0x2D\n",
    "ADDR_VDCMIN = 0x33\n",
    "ADDR_CHOPCONF = 0x6C\n",
    "ADDR_COOLCONF = 0x6D\n",
    "ADDR_PWMCONF = 0x70\n",
    "ADDR_ENCM_CTRL = 0x72\n",
    "\n",
    "\n",
    "register = 0x04\n",
    "\n",
    "# Sending the read command\n",
    "# Send the read command two times on the TMC2130\n",
    "gpiod.write(TMC2130_CS_PIN, pigpio.LOW)\n",
    "response = spi.xfer2([register, 0, 0, 0, 0])\n",
    "gpiod.write(TMC2130_CS_PIN, pigpio.HIGH)\n",
    "gpiod.write(TMC2130_CS_PIN, pigpio.LOW)\n",
    "response = spi.xfer2([register, 0, 0, 0, 0])\n",
    "gpiod.write(TMC2130_CS_PIN, pigpio.HIGH)\n",
    "# print(response)\n",
    "print(f\"{hex(response[0])} {hex(response[1])} {hex(response[2])} {hex(response[3])} {hex(response[4])}\")\n",
    "parse_tmc2130_status(response[0])\n",
    "print(f\"'STEP':         {(response[4] & 0x01) != 0}\")\n",
    "print(f\"'DIR':          {(response[4] & 0x02) != 0}\")\n",
    "print(f\"'DCEN_CFG4':    {(response[4] & 0x04) != 0}\")\n",
    "print(f\"'DCEN_CFG6':    {(response[4] & 0x08) != 0}\")\n",
    "print(f\"'DRV_ENN_CFG6': {(response[4] & 0x10) != 0}\")\n",
    "print(f\"'DCO':          {(response[4] & 0x20) != 0}\")\n",
    "print(f\"'VERSION':      {hex(response[1])}\")"
   ]
  },
  {
   "cell_type": "markdown",
   "metadata": {},
   "source": [
    "## Read GSTAT register\n",
    "\n",
    "- resets `reset_flag`"
   ]
  },
  {
   "cell_type": "code",
   "execution_count": 63,
   "metadata": {},
   "outputs": [
    {
     "name": "stdout",
     "output_type": "stream",
     "text": [
      "0x39 0x0 0x0 0x0 0x1\n",
      "'reset_flag':   True\n",
      "'driver_error': False\n",
      "'sg2':          False\n",
      "'standstill':   True\n",
      "'reset':        True\n",
      "'drv_err':      False\n",
      "'uv_cp':        False\n"
     ]
    }
   ],
   "source": [
    "# TMC 2130\n",
    "register = 0x01\n",
    "\n",
    "# Sending the read command\n",
    "# Send the read command two times on the TMC2130\n",
    "gpiod.write(TMC2130_CS_PIN, pigpio.LOW)\n",
    "response = spi.xfer2([register, 0, 0, 0, 0])\n",
    "gpiod.write(TMC2130_CS_PIN, pigpio.HIGH)\n",
    "gpiod.write(TMC2130_CS_PIN, pigpio.LOW)\n",
    "response = spi.xfer2([register, 0, 0, 0, 0])\n",
    "gpiod.write(TMC2130_CS_PIN, pigpio.HIGH)\n",
    "# print(response)\n",
    "print(f\"{hex(response[0])} {hex(response[1])} {hex(response[2])} {hex(response[3])} {hex(response[4])}\")\n",
    "parse_tmc2130_status(response[0])\n",
    "print(f\"'reset':        {(response[4] & 0x01) != 0}\")\n",
    "print(f\"'drv_err':      {(response[4] & 0x02) != 0}\")\n",
    "print(f\"'uv_cp':        {(response[4] & 0x04) != 0}\")"
   ]
  },
  {
   "cell_type": "markdown",
   "metadata": {},
   "source": [
    "## Reset Driver"
   ]
  },
  {
   "cell_type": "code",
   "execution_count": 106,
   "metadata": {},
   "outputs": [],
   "source": [
    "\n",
    "\n",
    "config_addresses = [\n",
    "    ADDR_GCONF,\n",
    "    ADDR_IHOLD_IRUN,\n",
    "    ADDR_TPOWERDOWN,\n",
    "    ADDR_TPWMTHRS,\n",
    "    ADDR_TCOOLTHRS,\n",
    "    ADDR_THIGH,\n",
    "    ADDR_XDIRECT,\n",
    "    ADDR_VDCMIN,\n",
    "    ADDR_CHOPCONF,\n",
    "    ADDR_COOLCONF,\n",
    "    ADDR_PWMCONF,\n",
    "    ADDR_ENCM_CTRL\n",
    "]\n",
    "\n",
    "for address in config_addresses:\n",
    "    write_address = address | (1 << 8)\n",
    "    gpiod.write(TMC2130_CS_PIN, pigpio.LOW)\n",
    "    response = spi.xfer2([write_address, 0, 0, 0, 0])\n",
    "    gpiod.write(TMC2130_CS_PIN, pigpio.HIGH)\n",
    "    "
   ]
  },
  {
   "cell_type": "markdown",
   "metadata": {},
   "source": [
    "## Setup Driver"
   ]
  },
  {
   "cell_type": "code",
   "execution_count": 68,
   "metadata": {},
   "outputs": [
    {
     "name": "stdout",
     "output_type": "stream",
     "text": [
      "0b11101100\n",
      "0b1101100\n",
      "'reset_flag':   False\n",
      "'driver_error': False\n",
      "'sg2':          False\n",
      "'standstill':   True\n",
      "0b11110000\n",
      "0b1110000\n",
      "'reset_flag':   False\n",
      "'driver_error': False\n",
      "'sg2':          False\n",
      "'standstill':   True\n"
     ]
    }
   ],
   "source": [
    "# Chopper config\n",
    "# TOFF = 4\n",
    "# HSTRT = 6\n",
    "# HEND = 0\n",
    "# CHM = 0\n",
    "# TBL = 2\n",
    "# Microsteps = 3 / 32x\n",
    "\n",
    "register = ADDR_CHOPCONF\n",
    "byte1 = 0b00000011\n",
    "byte2 = 0b00000001\n",
    "byte3 = 0b10000000\n",
    "byte4 = 0b01100100\n",
    "\n",
    "write_address = register + 0x80\n",
    "print(bin(write_address))\n",
    "print(bin(register))\n",
    "gpiod.write(TMC2130_CS_PIN, pigpio.LOW)\n",
    "response = spi.xfer2([write_address, byte1, byte2, byte3, byte4])\n",
    "gpiod.write(TMC2130_CS_PIN, pigpio.HIGH)\n",
    "\n",
    "parse_tmc2130_status(response[0])\n",
    "\n",
    "# PWM Config\n",
    "# ampl = 200\n",
    "# pwm_grad = 4\n",
    "# pwm_freq = 0\n",
    "# pwm_autoscale = 1\n",
    "\n",
    "register = ADDR_PWMCONF\n",
    "byte1 = 0b00000000\n",
    "byte2 = 0b00000100\n",
    "byte3 = 0b00000100\n",
    "byte4 = 0b11001000\n",
    "\n",
    "write_address = register + 0x80\n",
    "print(bin(write_address))\n",
    "print(bin(register))\n",
    "gpiod.write(TMC2130_CS_PIN, pigpio.LOW)\n",
    "response = spi.xfer2([write_address, byte1, byte2, byte3, byte4])\n",
    "gpiod.write(TMC2130_CS_PIN, pigpio.HIGH)\n",
    "\n",
    "parse_tmc2130_status(response[0])"
   ]
  },
  {
   "cell_type": "markdown",
   "metadata": {},
   "source": [
    "## Enable Stealth Chop"
   ]
  },
  {
   "cell_type": "code",
   "execution_count": 66,
   "metadata": {},
   "outputs": [
    {
     "name": "stdout",
     "output_type": "stream",
     "text": [
      "0b10000000\n",
      "0b0\n",
      "'reset_flag':   False\n",
      "'driver_error': False\n",
      "'sg2':          False\n",
      "'standstill':   True\n"
     ]
    }
   ],
   "source": [
    "register = ADDR_GCONF\n",
    "byte1 = 0b00000000\n",
    "byte2 = 0b00000000\n",
    "byte3 = 0b00000000\n",
    "byte4 = 0b00000100\n",
    "\n",
    "write_address = register + 0x80\n",
    "print(bin(write_address))\n",
    "print(bin(register))\n",
    "gpiod.write(TMC2130_CS_PIN, pigpio.LOW)\n",
    "response = spi.xfer2([write_address, byte1, byte2, byte3, byte4])\n",
    "gpiod.write(TMC2130_CS_PIN, pigpio.HIGH)\n",
    "\n",
    "parse_tmc2130_status(response[0])\n",
    "\n"
   ]
  },
  {
   "cell_type": "markdown",
   "metadata": {},
   "source": [
    "## Set Hold and Run Current"
   ]
  },
  {
   "cell_type": "code",
   "execution_count": 73,
   "metadata": {},
   "outputs": [
    {
     "name": "stdout",
     "output_type": "stream",
     "text": [
      "0b101\n",
      "0b10010000\n",
      "0b10000\n",
      "0x38 0x0 0x0 0x0 0xa\n",
      "'reset_flag':   False\n",
      "'driver_error': False\n",
      "'sg2':          False\n",
      "'standstill':   True\n"
     ]
    }
   ],
   "source": [
    "hold_current = 5 # %\n",
    "run_current = 0 # %\n",
    "\n",
    "register = 0x10\n",
    "byte1 = 0b00000000\n",
    "byte2 = 0b00000000\n",
    "byte3 = 0b00000000\n",
    "byte4 = 0b00000000 + hold_current + (run_current << 4)\n",
    "\n",
    "write_address = register + 0x80\n",
    "print(bin(byte4))\n",
    "print(bin(write_address))\n",
    "print(bin(register))\n",
    "gpiod.write(TMC2130_CS_PIN, pigpio.LOW)\n",
    "response = spi.xfer2([write_address, byte1, byte2, byte3, byte4])\n",
    "gpiod.write(TMC2130_CS_PIN, pigpio.HIGH)\n",
    "\n",
    "print(f\"{hex(response[0])} {hex(response[1])} {hex(response[2])} {hex(response[3])} {hex(response[4])}\")\n",
    "parse_tmc2130_status(response[0])"
   ]
  },
  {
   "cell_type": "markdown",
   "metadata": {},
   "source": [
    "## Get CHOPCONF"
   ]
  },
  {
   "cell_type": "code",
   "execution_count": 227,
   "metadata": {},
   "outputs": [
    {
     "name": "stdout",
     "output_type": "stream",
     "text": [
      "0x38 0x0 0x0 0x0 0x0\n",
      "'reset_flag':   False\n",
      "'driver_error': False\n",
      "'sg2':          False\n",
      "'standstill':   True\n"
     ]
    }
   ],
   "source": [
    "register = ADDR_CHOPCONF\n",
    "\n",
    "gpiod.write(TMC2130_CS_PIN, pigpio.LOW)\n",
    "response = spi.xfer2([register, 0, 0, 0, 0])\n",
    "gpiod.write(TMC2130_CS_PIN, pigpio.HIGH)\n",
    "\n",
    "gpiod.write(TMC2130_CS_PIN, pigpio.LOW)\n",
    "response = spi.xfer2([register, 0, 0, 0, 0])\n",
    "gpiod.write(TMC2130_CS_PIN, pigpio.HIGH)\n",
    "\n",
    "print(f\"{hex(response[0])} {hex(response[1])} {hex(response[2])} {hex(response[3])} {hex(response[4])}\")\n",
    "parse_tmc2130_status(response[0])"
   ]
  },
  {
   "cell_type": "markdown",
   "metadata": {},
   "source": [
    "## Get PWMCONF"
   ]
  },
  {
   "cell_type": "code",
   "execution_count": 226,
   "metadata": {},
   "outputs": [
    {
     "name": "stdout",
     "output_type": "stream",
     "text": [
      "0x38 0x0 0x0 0x0 0x0\n",
      "'reset_flag':   False\n",
      "'driver_error': False\n",
      "'sg2':          False\n",
      "'standstill':   True\n"
     ]
    }
   ],
   "source": [
    "register = ADDR_PWMCONF\n",
    "\n",
    "gpiod.write(TMC2130_CS_PIN, pigpio.LOW)\n",
    "response = spi.xfer2([register, 0, 0, 0, 0])\n",
    "gpiod.write(TMC2130_CS_PIN, pigpio.HIGH)\n",
    "\n",
    "gpiod.write(TMC2130_CS_PIN, pigpio.LOW)\n",
    "response = spi.xfer2([register, 0, 0, 0, 0])\n",
    "gpiod.write(TMC2130_CS_PIN, pigpio.HIGH)\n",
    "\n",
    "print(f\"{hex(response[0])} {hex(response[1])} {hex(response[2])} {hex(response[3])} {hex(response[4])}\")\n",
    "parse_tmc2130_status(response[0])"
   ]
  },
  {
   "cell_type": "markdown",
   "metadata": {},
   "source": [
    "Set CHOPCONF"
   ]
  },
  {
   "cell_type": "code",
   "execution_count": 221,
   "metadata": {},
   "outputs": [
    {
     "name": "stdout",
     "output_type": "stream",
     "text": [
      "0b11101100\n",
      "0b1101100\n",
      "0x70 0x0 0x0 0x0 0x0\n",
      "'reset_flag':   False\n",
      "'driver_error': False\n",
      "'sg2':          False\n",
      "'standstill':   False\n"
     ]
    }
   ],
   "source": [
    "register = ADDR_CHOPCONF\n",
    "byte1 = 0b00000000  # 32x microstep\n",
    "byte2 = 0b00000000\n",
    "byte3 = 0b00000000\n",
    "byte4 = 0b00000000\n",
    "\n",
    "write_address = register + 0x80\n",
    "print(bin(write_address))\n",
    "print(bin(register))\n",
    "\n",
    "gpiod.write(TMC2130_CS_PIN, pigpio.LOW)\n",
    "response = spi.xfer2([write_address, byte1, byte2, byte3, byte4])\n",
    "gpiod.write(TMC2130_CS_PIN, pigpio.HIGH)\n",
    "\n",
    "print(f\"{hex(response[0])} {hex(response[1])} {hex(response[2])} {hex(response[3])} {hex(response[4])}\")\n",
    "parse_tmc2130_status(response[0])"
   ]
  }
 ],
 "metadata": {
  "kernelspec": {
   "display_name": "Python 3",
   "language": "python",
   "name": "python3"
  },
  "language_info": {
   "codemirror_mode": {
    "name": "ipython",
    "version": 3
   },
   "file_extension": ".py",
   "mimetype": "text/x-python",
   "name": "python",
   "nbconvert_exporter": "python",
   "pygments_lexer": "ipython3",
   "version": "3.10.12"
  }
 },
 "nbformat": 4,
 "nbformat_minor": 2
}
