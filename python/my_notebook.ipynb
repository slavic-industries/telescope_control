{
 "cells": [
  {
   "cell_type": "code",
   "execution_count": 155,
   "metadata": {},
   "outputs": [],
   "source": [
    "import spidev\n",
    "import pigpio\n",
    "import os\n",
    "from RpiMotorLib import RpiMotorLib\n",
    "import json\n",
    "\n",
    "\n",
    "\n",
    "TMC429_CS_PIN = 5   # GPIO 5\n",
    "TMC429_CLK = 4      # GPIO 4\n",
    "TMC2130_CS_PIN = 8  # GPIO 8\n",
    "f_clk = 16000000\n",
    "\n",
    "\n",
    "gpiod = pigpio.pi()\n",
    "\n",
    "\n",
    "gpiod.set_mode(TMC429_CS_PIN, pigpio.OUTPUT)\n",
    "gpiod.write(TMC429_CS_PIN, pigpio.HIGH)\n",
    "\n",
    "gpiod.set_mode(TMC429_CLK, pigpio.OUTPUT)\n",
    "gpiod.hardware_clock(TMC429_CLK, f_clk)\n",
    "\n",
    "\n",
    "gpiod.set_mode(TMC2130_CS_PIN, pigpio.OUTPUT)\n",
    "gpiod.write(TMC2130_CS_PIN, pigpio.HIGH)\n",
    "\n",
    "def parse_status_byte(byte):\n",
    "    status = {\n",
    "        \"INT\": (byte & 0x80) != 0,\n",
    "        \"CDGW\": (byte & 0x40) != 0,\n",
    "        \"RS3\": (byte & 0x20) != 0,\n",
    "        \"RS2\": (byte & 0x08) != 0,\n",
    "        \"RS1\": (byte & 0x02) != 0,\n",
    "        \"xEQt3\": (byte & 0x10) != 0,\n",
    "        \"xEQt2\": (byte & 0x04) != 0,\n",
    "        \"xEQt1\": (byte & 0x01) != 0\n",
    "    }\n",
    "    status = json.dumps(status, indent=2)\n",
    "    print(status)"
   ]
  },
  {
   "cell_type": "code",
   "execution_count": 3,
   "metadata": {},
   "outputs": [],
   "source": [
    "import spidev\n",
    "import time\n",
    "\n",
    "SPI_BUS = 0\n",
    "SPI_DEVICE = 0\n",
    "spi = spidev.SpiDev()\n",
    "spi.open(SPI_BUS, SPI_DEVICE)\n",
    "spi.max_speed_hz = 100000\n",
    "spi.no_cs = True\n",
    "spi.mode = 3\n",
    "\n",
    "\n",
    "\n"
   ]
  },
  {
   "cell_type": "code",
   "execution_count": null,
   "metadata": {},
   "outputs": [],
   "source": [
    "# TMC 2130\n",
    "register = 0x04\n",
    "\n",
    "while True:\n",
    "    # Sending the read command\n",
    "    gpiod.write(TMC2130_CS_PIN, pigpio.LOW)\n",
    "    # time.sleep(0.001)\n",
    "    response = spi.xfer2([register, 0, 0, 0, 0])\n",
    "    gpiod.write(TMC2130_CS_PIN, pigpio.HIGH)\n",
    "    # print(response)\n",
    "    print(f\"{hex(response[0])} {hex(response[1])} {hex(response[2])} {hex(response[3])} {hex(response[4])}\")\n",
    "    time.sleep(1)"
   ]
  },
  {
   "cell_type": "code",
   "execution_count": 156,
   "metadata": {},
   "outputs": [
    {
     "name": "stdout",
     "output_type": "stream",
     "text": [
      "0x14 0x42 0x91 0x1\n",
      "{\n",
      "  \"INT\": false,\n",
      "  \"CDGW\": false,\n",
      "  \"RS3\": false,\n",
      "  \"RS2\": false,\n",
      "  \"RS1\": false,\n",
      "  \"xEQt3\": true,\n",
      "  \"xEQt2\": true,\n",
      "  \"xEQt1\": false\n",
      "}\n",
      "None\n"
     ]
    }
   ],
   "source": [
    "# TMC 429\n",
    "# Read the TMC 429 version\n",
    "register = 0b01110011\n",
    "\n",
    "# Sending the read command\n",
    "gpiod.write(TMC429_CS_PIN, pigpio.LOW)\n",
    "response = spi.xfer2([register, 0, 0, 0])\n",
    "gpiod.write(TMC429_CS_PIN, pigpio.HIGH)\n",
    "print(f\"{hex(response[0])} {hex(response[1])} {hex(response[2])} {hex(response[3])}\")\n",
    "print(parse_status_byte(response[0]))"
   ]
  },
  {
   "cell_type": "code",
   "execution_count": 184,
   "metadata": {},
   "outputs": [
    {
     "name": "stdout",
     "output_type": "stream",
     "text": [
      "0x14 0x0 0x0 0x0\n",
      "0\n",
      "0\n",
      "0x14 0x0 0xfa 0x1\n",
      "250\n",
      "1\n"
     ]
    }
   ],
   "source": [
    "# TMC 429\n",
    "# Read the TMC 429 Pulse_div and ramp_div\n",
    "register = 0b00011001\n",
    "\n",
    "# Sending the read command\n",
    "gpiod.write(TMC429_CS_PIN, pigpio.LOW)\n",
    "response = spi.xfer2([register, 0, 0, 0])\n",
    "gpiod.write(TMC429_CS_PIN, pigpio.HIGH)\n",
    "print(f\"{hex(response[0])} {hex(response[1])} {hex(response[2])} {hex(response[3])}\")\n",
    "\n",
    "pulse_div = (response[2] & 0xF0) >> 4\n",
    "ramp_div = (response[2] & 0xF)\n",
    "print(pulse_div)\n",
    "print(ramp_div)\n",
    "\n",
    "# Read the TMC 429 PMUL and PDIV\n",
    "register = 0b000010011\n",
    "\n",
    "# Sending the read command\n",
    "gpiod.write(TMC429_CS_PIN, pigpio.LOW)\n",
    "response = spi.xfer2([register, 0, 0, 0])\n",
    "gpiod.write(TMC429_CS_PIN, pigpio.HIGH)\n",
    "print(f\"{hex(response[0])} {hex(response[1])} {hex(response[2])} {hex(response[3])}\")\n",
    "\n",
    "pmul = (response[2])\n",
    "pdiv = (response[3])\n",
    "print(pmul)\n",
    "print(pdiv)"
   ]
  },
  {
   "cell_type": "code",
   "execution_count": 182,
   "metadata": {},
   "outputs": [
    {
     "name": "stdout",
     "output_type": "stream",
     "text": [
      "0x14 0x0 0x0 0x0\n",
      "0x14 0x0 0x0 0x0\n"
     ]
    }
   ],
   "source": [
    "# TMC 429\n",
    "# Set the TMC 429 Pulse_div and ramp_div\n",
    "register = 0b00011000\n",
    "byte3 = 0b00000000\n",
    "byte2 = 0b00000000      \n",
    "byte1 = 0b00000000 \n",
    "\n",
    "# Sending the read command\n",
    "gpiod.write(TMC429_CS_PIN, pigpio.LOW)\n",
    "response = spi.xfer2([register, byte3, byte2, byte1])\n",
    "gpiod.write(TMC429_CS_PIN, pigpio.HIGH)\n",
    "print(f\"{hex(response[0])} {hex(response[1])} {hex(response[2])} {hex(response[3])}\")\n",
    "\n",
    "# Set the TMC 429 PMUL and PDIV\n",
    "register = 0b000010010\n",
    "byte3 = 0b00000000\n",
    "byte2 = 0b11111010\n",
    "byte1 = 0b00000001\n",
    "\n",
    "# Sending the read command\n",
    "gpiod.write(TMC429_CS_PIN, pigpio.LOW)\n",
    "response = spi.xfer2([register, byte3, byte2, byte1])\n",
    "gpiod.write(TMC429_CS_PIN, pigpio.HIGH)\n",
    "print(f\"{hex(response[0])} {hex(response[1])} {hex(response[2])} {hex(response[3])}\")\n"
   ]
  },
  {
   "cell_type": "code",
   "execution_count": 185,
   "metadata": {},
   "outputs": [
    {
     "name": "stdout",
     "output_type": "stream",
     "text": [
      "Tgt Speed: 0x14 0x0 0x0 0x0\n",
      "Min Speed: 0x14 0x0 0x0 0x0\n",
      "Max Speed: 0x14 0x0 0x7 0xff\n",
      "Max Accel: 0x14 0x0 0x7 0xd0\n"
     ]
    }
   ],
   "source": [
    "# TMC 429\n",
    "# Read the TMC 429 Target Speed\n",
    "register = 0b00001001\n",
    "\n",
    "# Sending the read command\n",
    "gpiod.write(TMC429_CS_PIN, pigpio.LOW)\n",
    "response = spi.xfer2([register, 0, 0, 0])\n",
    "gpiod.write(TMC429_CS_PIN, pigpio.HIGH)\n",
    "print(f\"Tgt Speed: {hex(response[0])} {hex(response[1])} {hex(response[2])} {hex(response[3])}\")\n",
    "\n",
    "\n",
    "# Read the TMC 429 Min Speed\n",
    "register = 0b00000101\n",
    "\n",
    "# Sending the read command\n",
    "gpiod.write(TMC429_CS_PIN, pigpio.LOW)\n",
    "response = spi.xfer2([register, 0, 0, 0])\n",
    "gpiod.write(TMC429_CS_PIN, pigpio.HIGH)\n",
    "print(f\"Min Speed: {hex(response[0])} {hex(response[1])} {hex(response[2])} {hex(response[3])}\")\n",
    "\n",
    "\n",
    "# Read the TMC 429 Max Speed\n",
    "register = 0b00000111\n",
    "\n",
    "# Sending the read command\n",
    "gpiod.write(TMC429_CS_PIN, pigpio.LOW)\n",
    "response = spi.xfer2([register, 0, 0, 0])\n",
    "gpiod.write(TMC429_CS_PIN, pigpio.HIGH)\n",
    "print(f\"Max Speed: {hex(response[0])} {hex(response[1])} {hex(response[2])} {hex(response[3])}\")\n",
    "\n",
    "\n",
    "# Read the TMC 429 Max Accel\n",
    "register = 0b00001101\n",
    "\n",
    "# Sending the read command\n",
    "gpiod.write(TMC429_CS_PIN, pigpio.LOW)\n",
    "response = spi.xfer2([register, 0, 0, 0])\n",
    "gpiod.write(TMC429_CS_PIN, pigpio.HIGH)\n",
    "print(f\"Max Accel: {hex(response[0])} {hex(response[1])} {hex(response[2])} {hex(response[3])}\")"
   ]
  },
  {
   "cell_type": "code",
   "execution_count": 207,
   "metadata": {},
   "outputs": [
    {
     "name": "stdout",
     "output_type": "stream",
     "text": [
      "Max speed: 500000.0\n",
      "Tgt Speed: 48828.125\n",
      "0x14 0x0 0x0 0x0\n",
      "0x14 0x0 0x0 0x0\n",
      "0x14 0x0 0x0 0x0\n",
      "0x14 0x0 0x0 0x0\n"
     ]
    }
   ],
   "source": [
    "# TMC 429\n",
    "# Set the TMC 429 Target Speed\n",
    "\n",
    "trgt_speed = 200\n",
    "\n",
    "if trgt_speed > 0x7ff:\n",
    "    trgt_speed = 0x7ff\n",
    "\n",
    "register = 0b00001000\n",
    "byte3 = 0b00000000\n",
    "byte2 = trgt_speed >> 8\n",
    "byte1 = trgt_speed & 0xFF\n",
    "\n",
    "\n",
    "print(f\"Max speed: {f_clk / (2**pulse_div * 32)}\")\n",
    "\n",
    "# Sending the read command\n",
    "gpiod.write(TMC429_CS_PIN, pigpio.LOW)\n",
    "response = spi.xfer2([register, byte3, byte2, byte1])\n",
    "gpiod.write(TMC429_CS_PIN, pigpio.HIGH)\n",
    "print(f\"Tgt Speed: {float((f_clk*  trgt_speed) / ((2**pulse_div) * 2048 * 32)) }\")\n",
    "print(f\"{hex(response[0])} {hex(response[1])} {hex(response[2])} {hex(response[3])}\")\n",
    "\n",
    "\n",
    "# Set the TMC 429 Max Speed\n",
    "register = 0b00000110\n",
    "byte3 = 0b00000000\n",
    "byte2 = 0x07\n",
    "byte1 = 0xff\n",
    "\n",
    "# Sending the read command\n",
    "gpiod.write(TMC429_CS_PIN, pigpio.LOW)\n",
    "response = spi.xfer2([register, byte3, byte2, byte1])\n",
    "gpiod.write(TMC429_CS_PIN, pigpio.HIGH)\n",
    "print(f\"{hex(response[0])} {hex(response[1])} {hex(response[2])} {hex(response[3])}\")\n",
    "\n",
    "# Set the TMC 429 Min Speed\n",
    "register = 0b00000100\n",
    "\n",
    "# Sending the read command\n",
    "gpiod.write(TMC429_CS_PIN, pigpio.LOW)\n",
    "response = spi.xfer2([register, 0, 0, 0])\n",
    "gpiod.write(TMC429_CS_PIN, pigpio.HIGH)\n",
    "print(f\"{hex(response[0])} {hex(response[1])} {hex(response[2])} {hex(response[3])}\")\n",
    "\n",
    "# Set the TMC 429 Max Accel\n",
    "register = 0b00001100\n",
    "byte3 = 0b00000000\n",
    "byte2 = 0x07\n",
    "byte1 = 0xD0\n",
    "\n",
    "# Sending the read command\n",
    "gpiod.write(TMC429_CS_PIN, pigpio.LOW)\n",
    "response = spi.xfer2([register, byte3, byte2, byte1])\n",
    "gpiod.write(TMC429_CS_PIN, pigpio.HIGH)\n",
    "print(f\"{hex(response[0])} {hex(response[1])} {hex(response[2])} {hex(response[3])}\")"
   ]
  },
  {
   "cell_type": "code",
   "execution_count": 178,
   "metadata": {},
   "outputs": [
    {
     "name": "stdout",
     "output_type": "stream",
     "text": [
      "0b10100 0b0 0b0 0b10\n"
     ]
    }
   ],
   "source": [
    "# TMC 429\n",
    "# Set the TMC 429 to velocity mode\n",
    "register = 0b00010100\n",
    "byte3 = 0b00000000\n",
    "byte2 = 0b00000000      # Disable endstop L and R\n",
    "byte1 = 0b00000010      # Velocity mode\n",
    "\n",
    "gpiod.write(TMC429_CS_PIN, pigpio.LOW)\n",
    "response = spi.xfer2([register, byte3, byte2, byte1])\n",
    "gpiod.write(TMC429_CS_PIN, pigpio.HIGH)\n",
    "\n",
    "register = 0b00010101\n",
    "# Sending the read command\n",
    "gpiod.write(TMC429_CS_PIN, pigpio.LOW)\n",
    "response = spi.xfer2([register, 0, 0, 0])\n",
    "gpiod.write(TMC429_CS_PIN, pigpio.HIGH)\n",
    "print(f\"{bin(response[0])} {bin(response[1])} {bin(response[2])} {bin(response[3])}\")"
   ]
  },
  {
   "cell_type": "code",
   "execution_count": 119,
   "metadata": {},
   "outputs": [
    {
     "name": "stdout",
     "output_type": "stream",
     "text": [
      "0b10100 0b0 0b0 0b100000\n"
     ]
    }
   ],
   "source": [
    "# TMC 429\n",
    "# Read the TMC 429 IF Config\n",
    "register = 0b01101001\n",
    "\n",
    "gpiod.write(TMC429_CS_PIN, pigpio.LOW)\n",
    "response = spi.xfer2([register, 0, 0, 0])\n",
    "gpiod.write(TMC429_CS_PIN, pigpio.HIGH)\n",
    "print(f\"{bin(response[0])} {bin(response[1])} {bin(response[2])} {bin(response[3])}\")"
   ]
  },
  {
   "cell_type": "code",
   "execution_count": 93,
   "metadata": {},
   "outputs": [
    {
     "name": "stdout",
     "output_type": "stream",
     "text": [
      "0b10101 0b0 0b0 0b0\n"
     ]
    }
   ],
   "source": [
    "# TMC 429\n",
    "# Set the TMC 429 in Step and Dir mode\n",
    "register = 0b01101000\n",
    "byte3 = 0b00000000\n",
    "byte2 = 0b00000000\n",
    "byte1 = 0b00100000\n",
    "\n",
    "gpiod.write(TMC429_CS_PIN, pigpio.LOW)\n",
    "response = spi.xfer2([register, byte3, byte2, byte1])\n",
    "gpiod.write(TMC429_CS_PIN, pigpio.HIGH)\n",
    "print(f\"{bin(response[0])} {bin(response[1])} {bin(response[2])} {bin(response[3])}\")"
   ]
  }
 ],
 "metadata": {
  "kernelspec": {
   "display_name": "Python 3",
   "language": "python",
   "name": "python3"
  },
  "language_info": {
   "codemirror_mode": {
    "name": "ipython",
    "version": 3
   },
   "file_extension": ".py",
   "mimetype": "text/x-python",
   "name": "python",
   "nbconvert_exporter": "python",
   "pygments_lexer": "ipython3",
   "version": "3.10.12"
  }
 },
 "nbformat": 4,
 "nbformat_minor": 2
}
